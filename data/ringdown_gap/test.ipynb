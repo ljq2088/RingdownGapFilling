{
 "cells": [
  {
   "cell_type": "code",
   "execution_count": 1,
   "metadata": {},
   "outputs": [],
   "source": [
    "import numpy as np\n",
    "import matplotlib.pyplot as plt\n",
    "import dataprocess as dp\n",
    "import waveform_spin as wf\n",
    "import mpmath as mp\n",
    "import fishermatrix_massratio as fh\n",
    "import fishermatrix as fm\n",
    "import pandas as pd\n",
    "pi = np.pi"
   ]
  },
  {
   "cell_type": "code",
   "execution_count": 3,
   "metadata": {},
   "outputs": [
    {
     "name": "stdout",
     "output_type": "stream",
     "text": [
      "(0.012355959193758577, 0.0325768390335081, 0.049031886144281424, 0.03794909447542253, 0.046375706302333584, 0.047041874885067565, 0.018841499714484105, 0.0833819166759293)\n",
      "(0.0025584367901367823, 0.023527190966864186, 0.00036448531674778377, 0.0033216326029808425, 0.01586660155330519, 0.11864531158511457, 0.003312983766765493, 0.04046887164133881)\n"
     ]
    }
   ],
   "source": [
    "logmass = np.log10(1e6)\n",
    "logmass2 = 1e6\n",
    "para = [logmass,0.6,1]\n",
    "rd_ang = [pi/4,pi/4,pi/4]\n",
    "print(fh.ls_fm([logmass,0.6,1],[pi/4,pi/4,pi/4]))\n",
    "print(fm.ls_fm([logmass2,2.2883235749605624,1],[pi/4,pi/4,pi/4]))"
   ]
  },
  {
   "cell_type": "code",
   "execution_count": 19,
   "metadata": {},
   "outputs": [
    {
     "data": {
      "text/plain": [
       "(0.002900933721401066,\n",
       " 0.007311461616259999,\n",
       " 0.011210006149449956,\n",
       " 0.008640841690987036,\n",
       " 0.01107312768370292,\n",
       " 0.010443399268455686,\n",
       " 0.005318294954478356,\n",
       " 0.03409624500868881)"
      ]
     },
     "execution_count": 19,
     "metadata": {},
     "output_type": "execute_result"
    }
   ],
   "source": [
    "fh.tq_fm([logmass,0.6,1],[pi/4,pi/4,pi/4])"
   ]
  },
  {
   "cell_type": "code",
   "execution_count": 6,
   "metadata": {},
   "outputs": [
    {
     "name": "stdout",
     "output_type": "stream",
     "text": [
      "(0.012530623156019376, 0.03302673850489336, 0.04973619811763277, 0.03848368786994554, 0.04702212330478584, 0.04760223667682421, 0.019045504278858403, 0.08376795200506909)\n",
      "(0.011009997875296247, 0.0991322840271624, 0.0006338795915466419, 0.004374593079933688, 0.0646198116615572, 0.5300632160181589, 0.005698900149148824, 0.052677984313940426)\n"
     ]
    }
   ],
   "source": [
    "freq = np.arange(1e-5,1,1e-5)\n",
    "print(fh.gp_ls_fm(freq,para,rd_ang,0.1))\n",
    "print(fm.gp_ls_fm(freq,[logmass2,2.2883235749605624,1],[pi/4,pi/4,pi/4],0.1))"
   ]
  },
  {
   "cell_type": "code",
   "execution_count": 2,
   "metadata": {},
   "outputs": [
    {
     "name": "stdout",
     "output_type": "stream",
     "text": [
      "0             1.3042\n",
      "1           521650.0\n",
      "2           235460.0\n",
      "3             0.3028\n",
      "4             0.6928\n",
      "5            0.09315\n",
      "6            0.11335\n",
      "7            0.13715\n",
      "8             5.5425\n",
      "9            0.74993\n",
      "10          719150.0\n",
      "11            158.32\n",
      "12            174.53\n",
      "13            32.597\n",
      "14     68916000000.0\n",
      "15         2038000.0\n",
      "16        .26688E+09\n",
      "17        26521000.0\n",
      "18        .91137E+01\n",
      "19           93248.0\n",
      "20        .65327E-02\n",
      "21    100000000000.0\n",
      "22          0.000125\n",
      "Name: 1, dtype: object\n"
     ]
    }
   ],
   "source": [
    "data = pd.read_fwf('population_data/Klein16_Q3delays.txt', header=None)\n",
    "print(data.iloc[1,:])\n",
    "inx = 1\n",
    "\n",
    "red = data.iloc[inx,0]\n",
    "m1 = data.iloc[inx,1]\n",
    "m2 = data.iloc[inx,2]\n",
    "s1 = data.iloc[inx,3]\n",
    "s2 = data.iloc[inx,4]\n",
    "rem_s = data.iloc[inx,9]\n",
    "rem_mass = np.log10(data.iloc[inx,10])\n",
    "\n",
    "eta = m1*m2/(m1+m2)**2\n",
    "para = [rem_mass,eta,red,s1,s2,rem_s]\n"
   ]
  },
  {
   "cell_type": "code",
   "execution_count": 13,
   "metadata": {},
   "outputs": [
    {
     "name": "stdout",
     "output_type": "stream",
     "text": [
      "0.31381546151377543\n"
     ]
    }
   ],
   "source": [
    "eta = 0.1\n",
    "j = eta*(2*np.sqrt(3)-3.5171*eta+2.5763*eta**2)\n",
    "print(j)"
   ]
  },
  {
   "cell_type": "code",
   "execution_count": 2,
   "metadata": {},
   "outputs": [
    {
     "name": "stdout",
     "output_type": "stream",
     "text": [
      "0.2116256683580524\n",
      "2.2883235749605624\n"
     ]
    }
   ],
   "source": [
    "j=0.6\n",
    "eta = 0.45504534927350593+\\\n",
    "    1863.7071217428343 / (9.774183841831808e10 - 8.9603842815e10 * j + 299339.0098450251 *np.sqrt(1.3997382578590552e11 - 1.9548367683663617e11 * j+ 8.9603842815e10 * j**2))**(1/3)\\\n",
    "    -0.00012938451784859424 * (9.774183841831808e10 - 8.9603842815e10 * j + 299339.0098450251 * np.sqrt(1.3997382578590552e11 - 1.9548367683663617e11 * j + 8.9603842815e10 * j**2))**(1/3)\n",
    "mass_ratio = (1+np.sqrt(1-4*eta)-2*eta)/(2*eta)\n",
    "print(eta)\n",
    "print(mass_ratio)"
   ]
  },
  {
   "cell_type": "code",
   "execution_count": 3,
   "metadata": {},
   "outputs": [
    {
     "data": {
      "text/plain": [
       "(0.014661573310839364,\n",
       " 0.03301558274380271,\n",
       " 0.034465210239320775,\n",
       " 0.034696137802535026,\n",
       " 0.11380651277246588,\n",
       " 0.04424879683255985,\n",
       " 0.048994053135403816,\n",
       " 2.004044523805077)"
      ]
     },
     "execution_count": 3,
     "metadata": {},
     "output_type": "execute_result"
    }
   ],
   "source": [
    "fh.ls_fm(para,[pi/4,pi/4,pi/4])"
   ]
  },
  {
   "cell_type": "code",
   "execution_count": 5,
   "metadata": {},
   "outputs": [],
   "source": [
    "def ls_fm(paramater,angles):\n",
    "   Mtotw = 10**(paramater[0])\n",
    "   M_ratiow = paramater[1]\n",
    "   #rem_spin = paramater[5]\n",
    "\n",
    "\n",
    "   delta_w = delta_tau = [0,0,0,0]\n",
    "   para_dw = para_dtau = [0,0,0,0]\n",
    "\n",
    "   f_ini = wf.fin(Mtotw,M_ratiow)\n",
    "   f_end = wf.fout(Mtotw,M_ratiow)\n",
    "   freq = np.arange(f_ini,f_end,1e-5)\n",
    "   mode_delta = 1e-6\n",
    "   #params_1_p = [Mtotw,M_ratiow,R_shiftw]\n",
    "   #params_1_m = [Mtotw,M_ratiow,R_shiftw]   \n",
    "   #对log质量的微分\n",
    "   params_logmass1 = [paramater[0]+mode_delta,paramater[1],paramater[2]]\n",
    "   params_logmass2 = [paramater[0]-mode_delta,paramater[1],paramater[2]]\n",
    "   deriv_mass = (wf.sfa(freq,params_logmass1,angles,'lisa',delta_w,para_dtau) - wf.sfa(freq,params_logmass2,angles,'lisa',delta_w,para_dtau))/(2* mode_delta)\n",
    "\n",
    "   #对对称质量比的微分\n",
    "   params_eta1 = [paramater[0],paramater[1]+mode_delta,paramater[2]]\n",
    "   params_eta2 = [paramater[0],paramater[1]-mode_delta,paramater[2]]\n",
    "   deriv_eta = (wf.sfa(freq,params_eta1,angles,'lisa',delta_w,para_dtau) - wf.sfa(freq,params_eta2,angles,'lisa',delta_w,para_dtau))/(2* mode_delta)\n",
    "\n",
    "   #omega 22 模式的微分\n",
    "   delta_w22_p = delta_w[:]\n",
    "   delta_w22_p[0] = mode_delta\n",
    "   delta_w22_m = delta_w[:]\n",
    "   delta_w22_m[0] = -mode_delta\n",
    "   deriv_w22 = (wf.sfa(freq,paramater,angles,'lisa',delta_w22_p,para_dtau) - wf.sfa(freq,paramater,angles,'lisa',delta_w22_m,para_dtau))/(2* mode_delta)\n",
    "\n",
    "\n",
    "\n",
    "   #omega 33 模式的微分\n",
    "   delta_w33_p = delta_w[:]\n",
    "   delta_w33_p[2] = mode_delta\n",
    "   delta_w33_m = delta_w[:]\n",
    "   delta_w33_m[2] = -mode_delta\n",
    "   deriv_w33 = (wf.sfa(freq,paramater,angles,'lisa',delta_w33_p,para_dtau) - wf.sfa(freq,paramater,angles,'lisa',delta_w33_m,para_dtau))/(2* mode_delta)\n",
    "\n",
    "   #omega 44 模式的微分\n",
    "   delta_w44_p = delta_w[:]\n",
    "   delta_w44_p[3] = mode_delta\n",
    "   delta_w44_m = delta_w[:]\n",
    "   delta_w44_m[3] = -mode_delta\n",
    "   deriv_w44 = (wf.sfa(freq,paramater,angles,'lisa',delta_w44_p,para_dtau) - wf.sfa(freq,paramater,angles,'lisa',delta_w44_m,para_dtau))/(2* mode_delta)\n",
    "\n",
    "   #tau 22 模式的微分\n",
    "   delta_t22_p = delta_tau[:]\n",
    "   delta_t22_p[0] = mode_delta\n",
    "   delta_t22_m = delta_tau[:]\n",
    "   delta_t22_m[0] = -mode_delta\n",
    "   deriv_tau22 = (wf.sfa(freq,paramater,angles,'lisa',para_dw,delta_t22_p) - wf.sfa(freq,paramater,angles,'lisa',para_dw,delta_t22_m))/(2* mode_delta)\n",
    "\n",
    "\n",
    "\n",
    "\n",
    "   #tau 33 模式的微分\n",
    "   delta_t33_p = delta_tau[:]\n",
    "   delta_t33_p[2] = mode_delta\n",
    "   delta_t33_m = delta_tau[:]\n",
    "   delta_t33_m[2] = -mode_delta\n",
    "   deriv_tau33 = (wf.sfa(freq,paramater,angles,'lisa',para_dw,delta_t33_p) - wf.sfa(freq,paramater,angles,'lisa',para_dw,delta_t33_m))/(2* mode_delta)\n",
    "   \n",
    "   #tau 44 模式的微分\n",
    "   delta_t44_p = delta_tau[:]\n",
    "   delta_t44_p[3] = mode_delta\n",
    "   delta_t44_m = delta_tau[:]\n",
    "   delta_t44_m[3] = -mode_delta\n",
    "   deriv_tau44 = (wf.sfa(freq,paramater,angles,'lisa',para_dw,delta_t44_p) - wf.sfa(freq,paramater,angles,'lisa',para_dw,delta_t44_m))/(2* mode_delta)\n",
    "\n",
    "\n",
    "\n",
    "   diff_vec = [deriv_mass,deriv_eta,deriv_w22,deriv_w33,deriv_w44,deriv_tau22,deriv_tau33,deriv_tau44]  # Concatenate derivatives\n",
    "   N_sig = 1  # Number of signals\n",
    "   N_params = len(diff_vec)  # Number of parameters we care about\n",
    "   K = N_sig * N_params  # Dimension of Fisher Matrix\n",
    "   fish_mix = np.eye(K)\n",
    "   for i in range(0,K):\n",
    "      for j in range(0,K):\n",
    "         fish_mix[i,j] = dp.inner_prod(diff_vec[i],diff_vec[j],wf.PSD_ls(freq),1e-5)  # Construct Fisher Matrix\n",
    "\n",
    "   import mpmath as mp  # Import arbitrary precision matrix\n",
    "   mp.dps = 4000;     # mp.dps表示精确度达到的位数 \n",
    "   fish_mix_prec = mp.matrix(fish_mix)\n",
    "\n",
    "   if mp.det(fish_mix_prec) == 0:\n",
    "      raise ValueError(\"矩阵是奇异的，无法求逆。\")\n",
    "\n",
    "   fish_mix_inv = fish_mix_prec**-1\n",
    "\n",
    "   #将这三行向量合成为一个矩阵\n",
    "   Cov_Matrix = np.eye(K)\n",
    "   for i in range(0,K):\n",
    "      for j in range(0,K):\n",
    "         Cov_Matrix[i,j] = float(fish_mix_inv[i,j])\n",
    "         \n",
    "   return np.sqrt(np.diag(Cov_Matrix))[0],np.sqrt(np.diag(Cov_Matrix))[1],np.sqrt(np.diag(Cov_Matrix))[2],np.sqrt(np.diag(Cov_Matrix))[3],\\\n",
    "   np.sqrt(np.diag(Cov_Matrix))[4],np.sqrt(np.diag(Cov_Matrix))[5],np.sqrt(np.diag(Cov_Matrix))[6],np.sqrt(np.diag(Cov_Matrix))[7]\n"
   ]
  },
  {
   "cell_type": "code",
   "execution_count": 6,
   "metadata": {},
   "outputs": [
    {
     "ename": "IndexError",
     "evalue": "list index out of range",
     "output_type": "error",
     "traceback": [
      "\u001b[1;31m---------------------------------------------------------------------------\u001b[0m",
      "\u001b[1;31mIndexError\u001b[0m                                Traceback (most recent call last)",
      "\u001b[1;32m~\\AppData\\Local\\Temp\\ipykernel_3236\\793411726.py\u001b[0m in \u001b[0;36m<module>\u001b[1;34m\u001b[0m\n\u001b[0;32m      1\u001b[0m \u001b[0mmass\u001b[0m \u001b[1;33m=\u001b[0m \u001b[0mnp\u001b[0m\u001b[1;33m.\u001b[0m\u001b[0mlog10\u001b[0m\u001b[1;33m(\u001b[0m\u001b[1;36m1e6\u001b[0m\u001b[1;33m)\u001b[0m\u001b[1;33m\u001b[0m\u001b[1;33m\u001b[0m\u001b[0m\n\u001b[1;32m----> 2\u001b[1;33m \u001b[0mls_fm\u001b[0m\u001b[1;33m(\u001b[0m\u001b[1;33m[\u001b[0m\u001b[0mmass\u001b[0m\u001b[1;33m,\u001b[0m\u001b[1;36m2\u001b[0m\u001b[1;33m/\u001b[0m\u001b[1;36m9\u001b[0m\u001b[1;33m,\u001b[0m\u001b[1;36m1\u001b[0m\u001b[1;33m]\u001b[0m\u001b[1;33m,\u001b[0m\u001b[1;33m[\u001b[0m\u001b[0mpi\u001b[0m\u001b[1;33m/\u001b[0m\u001b[1;36m4\u001b[0m\u001b[1;33m,\u001b[0m\u001b[0mpi\u001b[0m\u001b[1;33m/\u001b[0m\u001b[1;36m4\u001b[0m\u001b[1;33m,\u001b[0m\u001b[0mpi\u001b[0m\u001b[1;33m/\u001b[0m\u001b[1;36m4\u001b[0m\u001b[1;33m]\u001b[0m\u001b[1;33m)\u001b[0m\u001b[1;33m\u001b[0m\u001b[1;33m\u001b[0m\u001b[0m\n\u001b[0m",
      "\u001b[1;32m~\\AppData\\Local\\Temp\\ipykernel_3236\\3946795719.py\u001b[0m in \u001b[0;36mls_fm\u001b[1;34m(paramater, angles)\u001b[0m\n\u001b[0;32m     17\u001b[0m    \u001b[0mparams_logmass1\u001b[0m \u001b[1;33m=\u001b[0m \u001b[1;33m[\u001b[0m\u001b[0mparamater\u001b[0m\u001b[1;33m[\u001b[0m\u001b[1;36m0\u001b[0m\u001b[1;33m]\u001b[0m\u001b[1;33m+\u001b[0m\u001b[0mmode_delta\u001b[0m\u001b[1;33m,\u001b[0m\u001b[0mparamater\u001b[0m\u001b[1;33m[\u001b[0m\u001b[1;36m1\u001b[0m\u001b[1;33m]\u001b[0m\u001b[1;33m,\u001b[0m\u001b[0mparamater\u001b[0m\u001b[1;33m[\u001b[0m\u001b[1;36m2\u001b[0m\u001b[1;33m]\u001b[0m\u001b[1;33m]\u001b[0m\u001b[1;33m\u001b[0m\u001b[1;33m\u001b[0m\u001b[0m\n\u001b[0;32m     18\u001b[0m    \u001b[0mparams_logmass2\u001b[0m \u001b[1;33m=\u001b[0m \u001b[1;33m[\u001b[0m\u001b[0mparamater\u001b[0m\u001b[1;33m[\u001b[0m\u001b[1;36m0\u001b[0m\u001b[1;33m]\u001b[0m\u001b[1;33m-\u001b[0m\u001b[0mmode_delta\u001b[0m\u001b[1;33m,\u001b[0m\u001b[0mparamater\u001b[0m\u001b[1;33m[\u001b[0m\u001b[1;36m1\u001b[0m\u001b[1;33m]\u001b[0m\u001b[1;33m,\u001b[0m\u001b[0mparamater\u001b[0m\u001b[1;33m[\u001b[0m\u001b[1;36m2\u001b[0m\u001b[1;33m]\u001b[0m\u001b[1;33m]\u001b[0m\u001b[1;33m\u001b[0m\u001b[1;33m\u001b[0m\u001b[0m\n\u001b[1;32m---> 19\u001b[1;33m    \u001b[0mderiv_mass\u001b[0m \u001b[1;33m=\u001b[0m \u001b[1;33m(\u001b[0m\u001b[0mwf\u001b[0m\u001b[1;33m.\u001b[0m\u001b[0msfa\u001b[0m\u001b[1;33m(\u001b[0m\u001b[0mfreq\u001b[0m\u001b[1;33m,\u001b[0m\u001b[0mparams_logmass1\u001b[0m\u001b[1;33m,\u001b[0m\u001b[0mangles\u001b[0m\u001b[1;33m,\u001b[0m\u001b[1;34m'lisa'\u001b[0m\u001b[1;33m,\u001b[0m\u001b[0mdelta_w\u001b[0m\u001b[1;33m,\u001b[0m\u001b[0mpara_dtau\u001b[0m\u001b[1;33m)\u001b[0m \u001b[1;33m-\u001b[0m \u001b[0mwf\u001b[0m\u001b[1;33m.\u001b[0m\u001b[0msfa\u001b[0m\u001b[1;33m(\u001b[0m\u001b[0mfreq\u001b[0m\u001b[1;33m,\u001b[0m\u001b[0mparams_logmass2\u001b[0m\u001b[1;33m,\u001b[0m\u001b[0mangles\u001b[0m\u001b[1;33m,\u001b[0m\u001b[1;34m'lisa'\u001b[0m\u001b[1;33m,\u001b[0m\u001b[0mdelta_w\u001b[0m\u001b[1;33m,\u001b[0m\u001b[0mpara_dtau\u001b[0m\u001b[1;33m)\u001b[0m\u001b[1;33m)\u001b[0m\u001b[1;33m/\u001b[0m\u001b[1;33m(\u001b[0m\u001b[1;36m2\u001b[0m\u001b[1;33m*\u001b[0m \u001b[0mmode_delta\u001b[0m\u001b[1;33m)\u001b[0m\u001b[1;33m\u001b[0m\u001b[1;33m\u001b[0m\u001b[0m\n\u001b[0m\u001b[0;32m     20\u001b[0m \u001b[1;33m\u001b[0m\u001b[0m\n\u001b[0;32m     21\u001b[0m    \u001b[1;31m#对对称质量比的微分\u001b[0m\u001b[1;33m\u001b[0m\u001b[1;33m\u001b[0m\u001b[0m\n",
      "\u001b[1;32mc:\\Users\\indigo\\Desktop\\gravitational_wave\\数据间隙\\gap_zhangcl\\ringdown_gap\\waveform_spin.py\u001b[0m in \u001b[0;36msfa\u001b[1;34m(f_, paramater, angles, detec, dw, dtau)\u001b[0m\n\u001b[0;32m    183\u001b[0m     \u001b[0mPhiD\u001b[0m   \u001b[1;33m=\u001b[0m \u001b[0mangles\u001b[0m\u001b[1;33m[\u001b[0m\u001b[1;36m2\u001b[0m\u001b[1;33m]\u001b[0m\u001b[1;33m\u001b[0m\u001b[1;33m\u001b[0m\u001b[0m\n\u001b[0;32m    184\u001b[0m     sigp   = (Dup(ThetaD,PsiD,PhiD,Gamma = pi/3)*transU(f_,ThetaD,PsiD,PhiD,detec,Gamma = pi/3) - \\\n\u001b[1;32m--> 185\u001b[1;33m             Dvp(ThetaD,PsiD,PhiD,Gamma = pi/3)*transV(f_,ThetaD,PsiD,PhiD,detec,Gamma = pi/3))*hpc(f_,paramater,dw,dtau,Philm = pi/3)[0]\n\u001b[0m\u001b[0;32m    186\u001b[0m \u001b[1;33m\u001b[0m\u001b[0m\n\u001b[0;32m    187\u001b[0m     sigc   = (Duc(ThetaD,PsiD,PhiD,Gamma = pi/3)*transU(f_,ThetaD,PsiD,PhiD,detec,Gamma = pi/3) - \\\n",
      "\u001b[1;32mc:\\Users\\indigo\\Desktop\\gravitational_wave\\数据间隙\\gap_zhangcl\\ringdown_gap\\waveform_spin.py\u001b[0m in \u001b[0;36mhpc\u001b[1;34m(f_, paramater, dw, dtau, Philm)\u001b[0m\n\u001b[0;32m    112\u001b[0m     \u001b[0mmass_ratio\u001b[0m \u001b[1;33m=\u001b[0m \u001b[1;33m(\u001b[0m\u001b[1;36m1\u001b[0m\u001b[1;33m+\u001b[0m\u001b[0mnp\u001b[0m\u001b[1;33m.\u001b[0m\u001b[0msqrt\u001b[0m\u001b[1;33m(\u001b[0m\u001b[1;36m1\u001b[0m\u001b[1;33m-\u001b[0m\u001b[1;36m4\u001b[0m\u001b[1;33m*\u001b[0m\u001b[0meta\u001b[0m\u001b[1;33m)\u001b[0m\u001b[1;33m-\u001b[0m\u001b[1;36m2\u001b[0m\u001b[1;33m*\u001b[0m\u001b[0meta\u001b[0m\u001b[1;33m)\u001b[0m\u001b[1;33m/\u001b[0m\u001b[1;33m(\u001b[0m\u001b[1;36m2\u001b[0m\u001b[1;33m*\u001b[0m\u001b[0meta\u001b[0m\u001b[1;33m)\u001b[0m\u001b[1;33m\u001b[0m\u001b[1;33m\u001b[0m\u001b[0m\n\u001b[0;32m    113\u001b[0m     \u001b[0mr\u001b[0m \u001b[1;33m=\u001b[0m \u001b[0mDL\u001b[0m\u001b[1;33m(\u001b[0m\u001b[0mparamater\u001b[0m\u001b[1;33m[\u001b[0m\u001b[1;36m2\u001b[0m\u001b[1;33m]\u001b[0m\u001b[1;33m)\u001b[0m \u001b[1;33m*\u001b[0m \u001b[0mMPC\u001b[0m\u001b[1;33m\u001b[0m\u001b[1;33m\u001b[0m\u001b[0m\n\u001b[1;32m--> 114\u001b[1;33m     \u001b[0mkai1\u001b[0m \u001b[1;33m=\u001b[0m \u001b[0mparamater\u001b[0m\u001b[1;33m[\u001b[0m\u001b[1;36m3\u001b[0m\u001b[1;33m]\u001b[0m\u001b[1;33m\u001b[0m\u001b[1;33m\u001b[0m\u001b[0m\n\u001b[0m\u001b[0;32m    115\u001b[0m     \u001b[0mkai2\u001b[0m \u001b[1;33m=\u001b[0m \u001b[0mparamater\u001b[0m\u001b[1;33m[\u001b[0m\u001b[1;36m4\u001b[0m\u001b[1;33m]\u001b[0m\u001b[1;33m\u001b[0m\u001b[1;33m\u001b[0m\u001b[0m\n\u001b[0;32m    116\u001b[0m     \u001b[0mj\u001b[0m \u001b[1;33m=\u001b[0m \u001b[0mparamater\u001b[0m\u001b[1;33m[\u001b[0m\u001b[1;36m5\u001b[0m\u001b[1;33m]\u001b[0m\u001b[1;33m\u001b[0m\u001b[1;33m\u001b[0m\u001b[0m\n",
      "\u001b[1;31mIndexError\u001b[0m: list index out of range"
     ]
    }
   ],
   "source": [
    "mass = np.log10(1e6)\n",
    "ls_fm([mass,2/9,1],[pi/4,pi/4,pi/4])"
   ]
  }
 ],
 "metadata": {
  "kernelspec": {
   "display_name": "base",
   "language": "python",
   "name": "python3"
  },
  "language_info": {
   "codemirror_mode": {
    "name": "ipython",
    "version": 3
   },
   "file_extension": ".py",
   "mimetype": "text/x-python",
   "name": "python",
   "nbconvert_exporter": "python",
   "pygments_lexer": "ipython3",
   "version": "3.9.13"
  }
 },
 "nbformat": 4,
 "nbformat_minor": 2
}
