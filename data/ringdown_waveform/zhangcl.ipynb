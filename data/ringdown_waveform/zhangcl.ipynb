{
 "cells": [
  {
   "cell_type": "code",
   "execution_count": 251,
   "metadata": {},
   "outputs": [],
   "source": [
    "import numpy as np\n",
    "import matplotlib.pyplot as plt\n",
    "import Gap_dir as Ga\n"
   ]
  },
  {
   "cell_type": "code",
   "execution_count": 252,
   "metadata": {},
   "outputs": [],
   "source": [
    "#先给一些常数\n",
    "M_sun = 1.99*1e30\n",
    "pc = 30.8396*1e15\n",
    "C = 3*1e8\n",
    "cG = 6.67*1e-11\n",
    "pi = np.pi\n",
    "\n",
    "#这里直接给以秒为单位的情况\n",
    "C       = 299792458.         # m/s\n",
    "YEAR    = 3.15581497632e7    # sec\n",
    "TSUN    = 4.92549232189886339689643862e-6 # mass of sun in seconds (G=C=1)\n",
    "MPC     = 3.08568025e22/C    # mega-Parsec in seconds"
   ]
  },
  {
   "cell_type": "code",
   "execution_count": 253,
   "metadata": {},
   "outputs": [],
   "source": [
    "#波形的参数\n",
    "f1 = [0,1.5251 , 0.6000 , 1.8956 , 2.3000]\n",
    "f2 = [0,-1.1568 , -0.2339 , -1.3043 , -1.5056]\n",
    "f3 = [0,0.1292, 0.4175, 0.1818, 0.2244]\n",
    "q1 = [0,0.7, -0.3, 0.9, 1.1929]\n",
    "q2 = [0,1.4187, 2.3561, 2.3430, 3.1191]\n",
    "q3 = [0,-0.4990, -0.2277, -0.4810, -0.4825]"
   ]
  },
  {
   "cell_type": "code",
   "execution_count": 254,
   "metadata": {},
   "outputs": [
    {
     "name": "stdout",
     "output_type": "stream",
     "text": [
      "6802.525834693799\n"
     ]
    }
   ],
   "source": [
    "#这个是红移到光度距离的转化，对应的单位是MPC\n",
    "H0 = 67.4  #（哈勃常数） \n",
    "Ωm = 0.315 #（物质密度参数） \n",
    "ΩΛ = 0.685 #（暗能密度参数）\n",
    "c0=299792.458\n",
    "from scipy import integrate\n",
    "import math\n",
    "def E(z):\n",
    "    return 1/math.sqrt(Ωm*(1+z)**3+ΩΛ)\n",
    "\n",
    "def DL(z):\n",
    "    v,err=integrate.quad(E,0,z)\n",
    "    return (1+z)*c0/H0*v\n",
    "\n",
    "print(DL(1))"
   ]
  },
  {
   "cell_type": "code",
   "execution_count": 255,
   "metadata": {},
   "outputs": [
    {
     "name": "stdout",
     "output_type": "stream",
     "text": [
      "0.6243885619373336\n"
     ]
    }
   ],
   "source": [
    "M = 1e7 * TSUN\n",
    "\n",
    "dM = 0\n",
    "t0 = 0\n",
    "r = DL(1) * MPC\n",
    "dr = 0\n",
    "phi = 0\n",
    "\n",
    "\n",
    "m1=2;m2=1;m3=3;m4=4\n",
    "#这一块检查过没问题\n",
    "#四个模式的频率和衰减时间\n",
    "#这里1234，分别代表22,21,33,44模式\n",
    "j = .76\n",
    "#q = M1/M2 （eta>=1），因此是无量纲数，就自由取值吧\n",
    "mass_ratio = 2\n",
    "eta = mass_ratio/(1+mass_ratio)**2   #eta为对称质量比\n",
    "j = eta*(2*np.sqrt(3)-3.5171*eta+2.5763*eta**2)\n",
    "print(j)\n",
    "w1 = (f1[1] + f2[1]*(1-j)**f3[1])/M ; dw1 = 0\n",
    "w2 = (f1[2] + f2[2]*(1-j)**f3[2])/M ; dw2 = 0\n",
    "w3 = (f1[3] + f2[3]*(3-j)**f3[3])/M ; dw3 = 0\n",
    "w4 = (f1[4] + f2[4]*(4-j)**f3[4])/M ; dw4 = 0\n",
    "tau1 = 2*(q1[1]+q2[1]*(1-j)**q3[1])/w1 ; dtau1 = 0\n",
    "tau2 = 2*(q1[2]+q2[2]*(1-j)**q3[2])/w2 ; dtau2 = 0\n",
    "tau3 = 2*(q1[3]+q2[3]*(1-j)**q3[3])/w3 ; dtau3 = 0\n",
    "tau4 = 2*(q1[4]+q2[4]*(1-j)**q3[4])/w3 ; dtau4 = 0\n",
    "wlm = np.array([w1,w2,w3,w4])\n",
    "tlm = np.array([tau1,tau2,tau3,tau4])\n",
    "#四个模式的振幅,现在进行定义非自旋amplitude,参考文章： PHYS.REV.D97,044048(2018)\n",
    "A1 = eta*0.571+0.303#22\n",
    "A2 = eta*0.099+0.06#21\n",
    "A3 = eta*0.157+0.671#33\n",
    "A4 = 0.122 -0.188*eta -0.964*eta**2#44\n",
    "\n",
    "#换一个振幅试试,eta不变\n",
    "\n",
    "\n",
    "#球谐函数，检查过没问题\n",
    "iot=pi/4\n",
    "Yp1 = np.sqrt(5/(4*pi)) * (1+np.cos(iot)**2)/2 #22\n",
    "Yp2 = np.sqrt(5/(4*pi)) * np.sin(iot) #21\n",
    "Yp3 = -np.sqrt(21/(8*pi)) * (1+np.cos(iot)**2) * np.sin(iot) / 2 #33\n",
    "Yp4 = np.sqrt(63/(16*pi))*(1+np.cos(iot)**2) * np.sin(iot)**2/2 #44\n",
    "Yc1 = np.sqrt(5/(4*pi)) * np.cos(iot)\n",
    "Yc2 = np.sqrt(5/(4*pi)) * np.cos(iot) * np.sin(iot)\n",
    "Yc3 = -np.sqrt(21/(8*pi)) * np.cos(iot) * np.sin(iot)\n",
    "Yc4 = np.sqrt(63/(16*pi))* np.cos(iot) * np.sin(iot)**2\n",
    "\n",
    "Theta=0\n",
    "Psi = pi/3\n",
    "phi0 = pi\n",
    "\n",
    "def Fp():\n",
    "    return .5*(1+np.cos(Theta)**2)*np.cos(2*Psi)*np.cos(2*phi0)-np.cos(Theta)*np.sin(2*Psi)*np.sin(2*phi0)\n",
    "def Fc():\n",
    "    return .5*(1+np.cos(Theta)**2)*np.sin(2*Psi)*np.cos(2*phi0)+np.cos(Theta)*np.cos(2*Psi)*np.sin(2*phi0)\n",
    "\n",
    "#def ht_full(t):\n",
    "#    return (hp1(t)+hp2(t)+hp3(t)+hp4(t))*Fp()+(hc1(t)+hc2(t)+hc3(t)+hc4(t))*Fc()\n",
    "\n",
    "\n"
   ]
  },
  {
   "cell_type": "code",
   "execution_count": 256,
   "metadata": {},
   "outputs": [],
   "source": [
    "wtq = 1.99*1e-5\n",
    "#我猜这里的w就是S(f)中的频率\n",
    "def Ib_p(w,wlm,tlm,phid ,philm = pi/3):\n",
    "    #wtq 是天琴的rotation frequency\n",
    "    #这是第一个22模式\n",
    "    #phid = phid + pi/4  #原文要求带入此数值\n",
    "    #这一部分，与原文对比过，代码上是一致的\n",
    "    Ib1_1 = 2*tlm[0] *wtq*(tlm[0]**2 *(w**2 + wlm[0]**2 -4*wtq**2) - 2*1j*w*tlm[0] - 1)*np.cos(2*phid) - \\\n",
    "        (1+1j*w*tlm[0])*(tlm[0]**2*(w**2 - wlm[0]**2 - 4*wtq**2) - 2j * w *tlm[0] - 1)*np.sin(2*phid)\n",
    "    Ib2_1 = (tlm[0]**2*(w**2 - wlm[0]**2 + 4*wtq**2) - 2j*w*tlm[0] - 1)*np.sin(2*phid)+\\\n",
    "        4*tlm[0]*wtq*(1+1j*w*tlm[0])*np.cos(2*phid)\n",
    "    Ib3_1 = (tlm[0]*(w-wlm[0]-2*wtq) - 1j)*(tlm[0]*(w + wlm[0] -2*wtq)-1j)*(tlm[0]*(w-wlm[0]+2*wtq)-1j)*(tlm[0]*(w+wlm[0]+2*wtq)-1j)\n",
    "    Ib_22 = (Ib1_1 * np.cos(philm) - Ib2_1 * tlm[0] * wlm[0] *np.sin(philm))*tlm[0]/Ib3_1\n",
    "    #这是第二个21模式\n",
    "    Ib1_2 = 2*tlm[1] *wtq*(tlm[1]**2 *(w**2 + wlm[1]**2 -4*wtq**2) - 2*1j*w*tlm[1] - 1)*np.cos(2*phid) - \\\n",
    "        (1+1j*w*tlm[1])*(tlm[1]**2*(w**2 - wlm[1]**2 - 4*wtq**2) - 2j * w *tlm[1] - 1)*np.sin(2*phid)\n",
    "    Ib2_2 = (tlm[1]**2*(w**2 - wlm[1]**2 + 4*wtq**2) - 2j*w*tlm[1] - 1)*np.sin(2*phid)+\\\n",
    "        4*tlm[1]*wtq*(1+1j*w*tlm[1])*np.cos(2*phid)\n",
    "    Ib3_2 = (tlm[1]*(w-wlm[1]-2*wtq) - 1j)*(tlm[1]*(w + wlm[1] -2*wtq)-1j)*(tlm[1]*(w-wlm[1]+2*wtq)-1j)*(tlm[1]*(w+wlm[1]+2*wtq)-1j)\n",
    "    Ib_21 = (Ib1_2 * np.cos(philm) - Ib2_2 * tlm[1] * wlm[1] *np.sin(philm))*tlm[1]/Ib3_2\n",
    "    #这是第三个33模式\n",
    "    Ib1_3 = 2*tlm[2] *wtq*(tlm[2]**2 *(w**2 + wlm[2]**2 -4*wtq**2) - 2*1j*w*tlm[2] - 1)*np.cos(2*phid) - \\\n",
    "        (1+1j*w*tlm[2])*(tlm[2]**2*(w**2 - wlm[2]**2 - 4*wtq**2) - 2j * w *tlm[2] - 1)*np.sin(2*phid)\n",
    "    Ib2_3 = (tlm[2]**2*(w**2 - wlm[2]**2 + 4*wtq**2) - 2j*w*tlm[2] - 1)*np.sin(2*phid)+\\\n",
    "        4*tlm[2]*wtq*(1+1j*w*tlm[2])*np.cos(2*phid)\n",
    "    Ib3_3 = (tlm[2]*(w-wlm[2]-2*wtq) - 1j)*(tlm[2]*(w + wlm[2] -2*wtq)-1j)*(tlm[2]*(w-wlm[2]+2*wtq)-1j)*(tlm[2]*(w+wlm[2]+2*wtq)-1j)\n",
    "    Ib_33 = (Ib1_3 * np.cos(philm) - Ib2_3 * tlm[2] * wlm[2] *np.sin(philm))*tlm[2]/Ib3_3\n",
    "    #这是第四个44模式\n",
    "    Ib1_4 = 2*tlm[3] *wtq*(tlm[3]**2 *(w**2 + wlm[3]**2 -4*wtq**2) - 2*1j*w*tlm[3] - 1)*np.cos(2*phid) - \\\n",
    "        (1+1j*w*tlm[3])*(tlm[3]**2*(w**2 - wlm[3]**2 - 4*wtq**2) - 2j * w *tlm[3] - 1)*np.sin(2*phid)\n",
    "    Ib2_4 = (tlm[3]**2*(w**2 - wlm[3]**2 + 4*wtq**2) - 2j*w*tlm[3] - 1)*np.sin(2*phid)+\\\n",
    "        4*tlm[3]*wtq*(1+1j*w*tlm[3])*np.cos(2*phid)\n",
    "    Ib3_4 = (tlm[3]*(w-wlm[3]-2*wtq) - 1j)*(tlm[3]*(w + wlm[3] -2*wtq)-1j)*(tlm[3]*(w-wlm[3]+2*wtq)-1j)*(tlm[3]*(w+wlm[3]+2*wtq)-1j)\n",
    "    Ib_44 = (Ib1_4 * np.cos(philm) - Ib2_4 * tlm[3] * wlm[3] *np.sin(philm))*tlm[3]/Ib3_4\n",
    "\n",
    "    return Ib_22,Ib_21,Ib_33,Ib_44\n",
    "\n",
    "\n",
    "#现在定义与cross缩并的Ib：\n",
    "def Ib_c(w,wlm,tlm,phid , philm = pi/3):\n",
    "    #wtq 是天琴的rotation frequency\n",
    "    #这是第一个22模式\n",
    "    #phid = phid + pi/4  #原文要求带入此数值\n",
    "    philm = philm - pi/2\n",
    "    #这一部分，与原文对比过，代码上是一致的\n",
    "    Ib1_1 = 2*tlm[0] *wtq*(tlm[0]**2 *(w**2 + wlm[0]**2 -4*wtq**2) - 2*1j*w*tlm[0] - 1)*np.cos(2*phid) - \\\n",
    "        (1+1j*w*tlm[0])*(tlm[0]**2*(w**2 - wlm[0]**2 - 4*wtq**2) - 2j * w *tlm[0] - 1)*np.sin(2*phid)\n",
    "    Ib2_1 = (tlm[0]**2*(w**2 - wlm[0]**2 + 4*wtq**2) - 2j*w*tlm[0] - 1)*np.sin(2*phid)+\\\n",
    "        4*tlm[0]*wtq*(1+1j*w*tlm[0])*np.cos(2*phid)\n",
    "    Ib3_1 = (tlm[0]*(w-wlm[0]-2*wtq) - 1j)*(tlm[0]*(w + wlm[0] -2*wtq)-1j)*(tlm[0]*(w-wlm[0]+2*wtq)-1j)*(tlm[0]*(w+wlm[0]+2*wtq)-1j)\n",
    "    Ib_22 = (Ib1_1 * np.cos(philm) - Ib2_1 * tlm[0] * wlm[0] *np.sin(philm))*tlm[0]/Ib3_1\n",
    "    #这是第二个21模式\n",
    "    Ib1_2 = 2*tlm[1] *wtq*(tlm[1]**2 *(w**2 + wlm[1]**2 -4*wtq**2) - 2*1j*w*tlm[1] - 1)*np.cos(2*phid) - \\\n",
    "        (1+1j*w*tlm[1])*(tlm[1]**2*(w**2 - wlm[1]**2 - 4*wtq**2) - 2j * w *tlm[1] - 1)*np.sin(2*phid)\n",
    "    Ib2_2 = (tlm[1]**2*(w**2 - wlm[1]**2 + 4*wtq**2) - 2j*w*tlm[1] - 1)*np.sin(2*phid)+\\\n",
    "        4*tlm[1]*wtq*(1+1j*w*tlm[1])*np.cos(2*phid)\n",
    "    Ib3_2 = (tlm[1]*(w-wlm[1]-2*wtq) - 1j)*(tlm[1]*(w + wlm[1] -2*wtq)-1j)*(tlm[1]*(w-wlm[1]+2*wtq)-1j)*(tlm[1]*(w+wlm[1]+2*wtq)-1j)\n",
    "    Ib_21 = (Ib1_2 * np.cos(philm) - Ib2_2 * tlm[1] * wlm[1] *np.sin(philm))*tlm[1]/Ib3_2\n",
    "    #这是第三个33模式\n",
    "    Ib1_3 = 2*tlm[2] *wtq*(tlm[2]**2 *(w**2 + wlm[2]**2 -4*wtq**2) - 2*1j*w*tlm[2] - 1)*np.cos(2*phid) - \\\n",
    "        (1+1j*w*tlm[2])*(tlm[2]**2*(w**2 - wlm[2]**2 - 4*wtq**2) - 2j * w *tlm[2] - 1)*np.sin(2*phid)\n",
    "    Ib2_3 = (tlm[2]**2*(w**2 - wlm[2]**2 + 4*wtq**2) - 2j*w*tlm[2] - 1)*np.sin(2*phid)+\\\n",
    "        4*tlm[2]*wtq*(1+1j*w*tlm[2])*np.cos(2*phid)\n",
    "    Ib3_3 = (tlm[2]*(w-wlm[2]-2*wtq) - 1j)*(tlm[2]*(w + wlm[2] -2*wtq)-1j)*(tlm[2]*(w-wlm[2]+2*wtq)-1j)*(tlm[2]*(w+wlm[2]+2*wtq)-1j)\n",
    "    Ib_33 = (Ib1_3 * np.cos(philm) - Ib2_3 * tlm[2] * wlm[2] *np.sin(philm))*tlm[2]/Ib3_3\n",
    "    #这是第四个44模式\n",
    "    Ib1_4 = 2*tlm[3] *wtq*(tlm[3]**2 *(w**2 + wlm[3]**2 -4*wtq**2) - 2*1j*w*tlm[3] - 1)*np.cos(2*phid) - \\\n",
    "        (1+1j*w*tlm[3])*(tlm[3]**2*(w**2 - wlm[3]**2 - 4*wtq**2) - 2j * w *tlm[3] - 1)*np.sin(2*phid)\n",
    "    Ib2_4 = (tlm[3]**2*(w**2 - wlm[3]**2 + 4*wtq**2) - 2j*w*tlm[3] - 1)*np.sin(2*phid)+\\\n",
    "        4*tlm[3]*wtq*(1+1j*w*tlm[3])*np.cos(2*phid)\n",
    "    Ib3_4 = (tlm[3]*(w-wlm[3]-2*wtq) - 1j)*(tlm[3]*(w + wlm[3] -2*wtq)-1j)*(tlm[3]*(w-wlm[3]+2*wtq)-1j)*(tlm[3]*(w+wlm[3]+2*wtq)-1j)\n",
    "    Ib_44 = (Ib1_4 * np.cos(philm) - Ib2_4 * tlm[3] * wlm[3] *np.sin(philm))*tlm[3]/Ib3_4\n",
    "\n",
    "    return Ib_22,Ib_21,Ib_33,Ib_44"
   ]
  },
  {
   "cell_type": "code",
   "execution_count": 257,
   "metadata": {},
   "outputs": [
    {
     "data": {
      "text/plain": [
       "0.06451843669533609"
      ]
     },
     "execution_count": 257,
     "metadata": {},
     "output_type": "execute_result"
    }
   ],
   "source": [
    "wlm[0]*2*pi"
   ]
  },
  {
   "cell_type": "code",
   "execution_count": 273,
   "metadata": {},
   "outputs": [],
   "source": [
    "#这里给出天琴探测器响应后的频域波形\n",
    "#没准在这里给出一些参数，将Ib_p确定下来\n",
    "para = np.array([1,1,1,1,1])\n",
    "gamma = pi/3\n",
    "thetad = 1.17662\n",
    "psid = -0.873302\n",
    "phid = -0.615727\n",
    "Mz = M \n",
    "Dl = r\n",
    "\n",
    "#这里是频率下的波形\n",
    "def sf(freq):\n",
    "    phid1 = phid\n",
    "    phid2 = phid +pi/4\n",
    "    freq = freq*2*pi #将圆频率转化到频率\n",
    "    #这一部分已与原文对比，形式上没有问题\n",
    "    sig_freq_22 = (-0.5*np.sin(gamma)*(1+np.cos(thetad)**2)*np.cos(2*psid)*Ib_p(freq,wlm,tlm,phid1)[0]+\\\n",
    "                np.sin(gamma)*np.cos(thetad)*np.sin(2*psid)*Ib_p(freq,wlm,tlm,phid2)[0])*Mz*A1*Yp1/Dl +\\\n",
    "                (0.5*np.sin(gamma)*(1+np.cos(thetad)**2)*np.sin(2*psid)*Ib_c(freq,wlm,tlm,phid1)[0]+\\\n",
    "                np.sin(gamma)*np.cos(thetad)*np.cos(2*psid)*Ib_c(freq,wlm,tlm,phid2)[0])*Mz*A1*Yc1/Dl\n",
    "    \n",
    "    sig_freq_21 = (-0.5*np.sin(gamma)*(1+np.cos(thetad)**2)*np.cos(2*psid)*Ib_p(freq,wlm,tlm,phid1)[1]+\\\n",
    "                np.sin(gamma)*np.cos(thetad)*np.sin(2*psid)*Ib_p(freq,wlm,tlm,phid2)[1])*Mz*A2*Yp2/Dl +\\\n",
    "                (0.5*np.sin(gamma)*(1+np.cos(thetad)**2)*np.sin(2*psid)*Ib_c(freq,wlm,tlm,phid1)[1]+\\\n",
    "                np.sin(gamma)*np.cos(thetad)*np.cos(2*psid)*Ib_c(freq,wlm,tlm,phid2)[1])*Mz*A2*Yc2/Dl\n",
    "    \n",
    "    sig_freq_33 = (-0.5*np.sin(gamma)*(1+np.cos(thetad)**2)*np.cos(2*psid)*Ib_p(freq,wlm,tlm,phid1)[2]+\\\n",
    "                np.sin(gamma)*np.cos(thetad)*np.sin(2*psid)*Ib_p(freq,wlm,tlm,phid2)[2])*Mz*A3*Yp3/Dl +\\\n",
    "                (0.5*np.sin(gamma)*(1+np.cos(thetad)**2)*np.sin(2*psid)*Ib_c(freq,wlm,tlm,phid1)[2]+\\\n",
    "                np.sin(gamma)*np.cos(thetad)*np.cos(2*psid)*Ib_c(freq,wlm,tlm,phid2)[2])*Mz*A3*Yc3/Dl\n",
    "    \n",
    "    sig_freq_44 = (-0.5*np.sin(gamma)*(1+np.cos(thetad)**2)*np.cos(2*psid)*Ib_p(freq,wlm,tlm,phid1)[3]+\\\n",
    "                np.sin(gamma)*np.cos(thetad)*np.sin(2*psid)*Ib_p(freq,wlm,tlm,phid2)[3])*Mz*A4*Yp4/Dl +\\\n",
    "                (0.5*np.sin(gamma)*(1+np.cos(thetad)**2)*np.sin(2*psid)*Ib_c(freq,wlm,tlm,phid1)[3]+\\\n",
    "                np.sin(gamma)*np.cos(thetad)*np.cos(2*psid)*Ib_c(freq,wlm,tlm,phid2)[3])*Mz*A4*Yc4/Dl\n",
    "    return sig_freq_22+sig_freq_21+sig_freq_33+sig_freq_44\n",
    "\n",
    "#这里是圆频率下的波形\n",
    "def sw(freq):\n",
    "    phid1 = phid\n",
    "    phid2 = phid +pi/4\n",
    "    #freq = freq*2*pi\n",
    "    #这一部分已与原文对比，形式上没有问题\n",
    "    sig_freq_22 = (-0.5*np.sin(gamma)*(1+np.cos(thetad)**2)*np.cos(2*psid)*Ib_p(freq,wlm,tlm,phid1)[0]+\\\n",
    "                np.sin(gamma)*np.cos(thetad)*np.sin(2*psid)*Ib_p(freq,wlm,tlm,phid2)[0])*Mz*A1*Yp1/Dl +\\\n",
    "                (0.5*np.sin(gamma)*(1+np.cos(thetad)**2)*np.sin(2*psid)*Ib_c(freq,wlm,tlm,phid1)[0]+\\\n",
    "                np.sin(gamma)*np.cos(thetad)*np.cos(2*psid)*Ib_c(freq,wlm,tlm,phid2)[0])*Mz*A1*Yc1/Dl\n",
    "    \n",
    "    sig_freq_21 = (-0.5*np.sin(gamma)*(1+np.cos(thetad)**2)*np.cos(2*psid)*Ib_p(freq,wlm,tlm,phid1)[1]+\\\n",
    "                np.sin(gamma)*np.cos(thetad)*np.sin(2*psid)*Ib_p(freq,wlm,tlm,phid2)[1])*Mz*A2*Yp2/Dl +\\\n",
    "                (0.5*np.sin(gamma)*(1+np.cos(thetad)**2)*np.sin(2*psid)*Ib_c(freq,wlm,tlm,phid1)[1]+\\\n",
    "                np.sin(gamma)*np.cos(thetad)*np.cos(2*psid)*Ib_c(freq,wlm,tlm,phid2)[1])*Mz*A2*Yc2/Dl\n",
    "    \n",
    "    sig_freq_33 = (-0.5*np.sin(gamma)*(1+np.cos(thetad)**2)*np.cos(2*psid)*Ib_p(freq,wlm,tlm,phid1)[2]+\\\n",
    "                np.sin(gamma)*np.cos(thetad)*np.sin(2*psid)*Ib_p(freq,wlm,tlm,phid2)[2])*Mz*A3*Yp3/Dl +\\\n",
    "                (0.5*np.sin(gamma)*(1+np.cos(thetad)**2)*np.sin(2*psid)*Ib_c(freq,wlm,tlm,phid1)[2]+\\\n",
    "                np.sin(gamma)*np.cos(thetad)*np.cos(2*psid)*Ib_c(freq,wlm,tlm,phid2)[2])*Mz*A3*Yc3/Dl\n",
    "    \n",
    "    sig_freq_44 = (-0.5*np.sin(gamma)*(1+np.cos(thetad)**2)*np.cos(2*psid)*Ib_p(freq,wlm,tlm,phid1)[3]+\\\n",
    "                np.sin(gamma)*np.cos(thetad)*np.sin(2*psid)*Ib_p(freq,wlm,tlm,phid2)[3])*Mz*A4*Yp4/Dl +\\\n",
    "                (0.5*np.sin(gamma)*(1+np.cos(thetad)**2)*np.sin(2*psid)*Ib_c(freq,wlm,tlm,phid1)[3]+\\\n",
    "                np.sin(gamma)*np.cos(thetad)*np.cos(2*psid)*Ib_c(freq,wlm,tlm,phid2)[3])*Mz*A4*Yc4/Dl\n",
    "    return sig_freq_22+sig_freq_21+sig_freq_33+sig_freq_44"
   ]
  },
  {
   "cell_type": "code",
   "execution_count": 259,
   "metadata": {},
   "outputs": [],
   "source": [
    "def PowerSpectralDensity(f):\n",
    "    \n",
    "    \"\"\"\n",
    "    From https://arxiv.org/pdf/1803.01944.pdf. \n",
    "    \"\"\"\n",
    "\n",
    "    L = 2.5*10**9   # Length of LISA arm\n",
    "    f0 = 19.09*10**-3    \n",
    "    \n",
    "    Poms = ((1.5*10**-11)**2)*(1 + ((2*10**-3)/f)**4)  # Optical Metrology Sensor\n",
    "    Pacc = (3*10**-15)**2*(1 + (4*10**-3/(10*f))**2)*(1 + (f/(8*10**-3))**4)  # Acceleration Noise\n",
    "    Sc = 9*10**(-45)*f**(-7/3)*np.exp(-f**0.171 + 292*f*np.sin(1020*f)) * (1 \\\n",
    "                                            + np.tanh(1680*(0.00215 - f)))   # Confusion noise\n",
    "    alpha = 0.171\n",
    "    beta = 292\n",
    "    k =1020\n",
    "    gamma = 1680\n",
    "    f_k = 0.00215 \n",
    "    PSD = ((10/(3*L*L))*(Poms + (4*Pacc)/(np.power(2*np.pi*f,4)))*(1 + 0.6*(f/f0)*(f/f0)) + Sc) # PSD\n",
    "        \n",
    "    # Handling the zeroth frequency bin\n",
    "    \n",
    "    where_are_NaNs = np.isnan(PSD) \n",
    "    PSD[where_are_NaNs] = 1e100    # at f = 0, PSD is infinite. Approximate infinity and burn my \n",
    "                                   # mathematics degree to the ground. \n",
    "    \n",
    "    return PSD"
   ]
  },
  {
   "cell_type": "code",
   "execution_count": 274,
   "metadata": {},
   "outputs": [
    {
     "data": {
      "image/png": "[encoded data removed]",
      "text/plain": [
       "<Figure size 640x480 with 1 Axes>"
      ]
     },
     "metadata": {},
     "output_type": "display_data"
    }
   ],
   "source": [
    "deltaf = 1/tau4/5\n",
    "freq = np.arange(1e-4,1,deltaf)\n",
    "\n",
    "freq_rd = np.arange((wlm[1])/2/pi/2,wlm[3]/pi,deltaf)\n",
    "\n",
    "#np.abs(sf(freq_rd))\n",
    "plt.plot(freq_rd,np.abs(sf(freq_rd)))\n",
    "\n",
    "plt.plot(freq,np.sqrt(PowerSpectralDensity(freq)))\n",
    "plt.xscale('log')\n",
    "plt.yscale('log')\n",
    "#plt.xlim(4*1e-4,3*1e-3)\n",
    "plt.show()"
   ]
  },
  {
   "cell_type": "code",
   "execution_count": 261,
   "metadata": {},
   "outputs": [
    {
     "data": {
      "image/png": "[encoded data removed]",
      "text/plain": [
       "<Figure size 640x480 with 1 Axes>"
      ]
     },
     "metadata": {},
     "output_type": "display_data"
    }
   ],
   "source": [
    "st=Ga.Freq_ifft(sf(freq))\n",
    "plt.plot(st)\n",
    "#plt.xlim(0,50)\n",
    "plt.show()"
   ]
  },
  {
   "cell_type": "code",
   "execution_count": 262,
   "metadata": {},
   "outputs": [
    {
     "name": "stdout",
     "output_type": "stream",
     "text": [
      "SNR of The source is: 668.0591829370226\n"
     ]
    }
   ],
   "source": [
    "#算SNR\n",
    "\n",
    "def inner_prod(sig1_f,sig2_f,PSD,delta_f):\n",
    "    \"\"\"\n",
    "    Inputs:\n",
    "    sig1_f, sig2_f are continuous time fourier transforms with dimensions of seconds.\n",
    "    PSD (power spectral density) defined in the function below. \n",
    "    delta_f : spacing of fourier frequencies\n",
    "    \n",
    "    outputs: Standard inner product, dimensionless.\n",
    "    \"\"\"\n",
    "    return (4*delta_f)  * np.real(sum(sig1_f*np.conjugate(sig2_f)/PSD))\n",
    "sig_f=sf(freq_rd)  #如果不除以10，SNR就大到离谱\n",
    "print('SNR of The source is:',np.sqrt(inner_prod(sig_f,sig_f,PowerSpectralDensity(freq_rd),1e-4)))"
   ]
  },
  {
   "cell_type": "code",
   "execution_count": 263,
   "metadata": {},
   "outputs": [
    {
     "ename": "NameError",
     "evalue": "name 'logMchirp_1' is not defined",
     "output_type": "error",
     "traceback": [
      "\u001b[1;31m---------------------------------------------------------------------------\u001b[0m",
      "\u001b[1;31mNameError\u001b[0m                                 Traceback (most recent call last)",
      "\u001b[1;32m~\\AppData\\Local\\Temp\\ipykernel_8388\\745654627.py\u001b[0m in \u001b[0;36m<module>\u001b[1;34m\u001b[0m\n\u001b[0;32m      1\u001b[0m \u001b[1;31m#现在先用fisher矩阵算一算吧\u001b[0m\u001b[1;33m\u001b[0m\u001b[1;33m\u001b[0m\u001b[0m\n\u001b[0;32m      2\u001b[0m \u001b[0mlogMchirp_delta\u001b[0m \u001b[1;33m=\u001b[0m \u001b[1;36m1e-6\u001b[0m\u001b[1;33m\u001b[0m\u001b[1;33m\u001b[0m\u001b[0m\n\u001b[1;32m----> 3\u001b[1;33m \u001b[0mparams_1_p\u001b[0m \u001b[1;33m=\u001b[0m \u001b[1;33m[\u001b[0m\u001b[0mlogMchirp_1\u001b[0m \u001b[1;33m+\u001b[0m \u001b[0mlogMchirp_delta\u001b[0m\u001b[1;33m,\u001b[0m\u001b[0meta_1\u001b[0m\u001b[1;33m,\u001b[0m\u001b[0mbeta_1\u001b[0m\u001b[1;33m,\u001b[0m\u001b[0mDeff_1\u001b[0m\u001b[1;33m]\u001b[0m\u001b[1;33m\u001b[0m\u001b[1;33m\u001b[0m\u001b[0m\n\u001b[0m\u001b[0;32m      4\u001b[0m \u001b[0mparams_1_m\u001b[0m \u001b[1;33m=\u001b[0m \u001b[1;33m[\u001b[0m\u001b[0mlogMchirp_1\u001b[0m \u001b[1;33m-\u001b[0m \u001b[0mlogMchirp_delta\u001b[0m\u001b[1;33m,\u001b[0m\u001b[0meta_1\u001b[0m\u001b[1;33m,\u001b[0m\u001b[0mbeta_1\u001b[0m\u001b[1;33m,\u001b[0m\u001b[0mDeff_1\u001b[0m\u001b[1;33m]\u001b[0m\u001b[1;33m\u001b[0m\u001b[1;33m\u001b[0m\u001b[0m\n\u001b[0;32m      5\u001b[0m \u001b[1;33m\u001b[0m\u001b[0m\n",
      "\u001b[1;31mNameError\u001b[0m: name 'logMchirp_1' is not defined"
     ]
    }
   ],
   "source": [
    "#现在先用fisher矩阵算一算吧\n",
    "logMchirp_delta = 1e-6\n",
    "params_1_p = [logMchirp_1 + logMchirp_delta,eta_1,beta_1,Deff_1]\n",
    "params_1_m = [logMchirp_1 - logMchirp_delta,eta_1,beta_1,Deff_1]\n",
    "\n",
    "deriv_log_Mchirp_1 = (htilde(freq_bin,eps_AP,params_1_p) - htilde(freq_bin,eps_AP,params_1_m))/(2*logMchirp_delta)\n",
    "\n",
    "# eta\n",
    "\n",
    "eta_delta = 1e-6\n",
    "params_1_p = [logMchirp_1,eta_1 + eta_delta,beta_1,Deff_1]\n",
    "params_1_m = [logMchirp_1,eta_1 - eta_delta,beta_1,Deff_1]\n",
    "\n",
    "deriv_log_eta_1 = (htilde(freq_bin,eps_AP,params_1_p) - htilde(freq_bin,eps_AP,params_1_m))/(2*eta_delta)\n",
    "\n",
    "\n",
    "# beta\n",
    "\n",
    "beta_delta = 1e-6\n",
    "params_1_p = [logMchirp_1,eta_1,beta_1 + beta_delta,Deff_1]\n",
    "params_1_m = [logMchirp_1,eta_1,beta_1 - beta_delta,Deff_1]\n",
    "\n",
    "deriv_log_beta_1 = (htilde(freq_bin,eps_AP,params_1_p) - htilde(freq_bin,eps_AP,params_1_m))/(2*beta_delta)\n",
    "\n",
    "diff_vec = [deriv_log_Mchirp_1,deriv_log_eta_1,deriv_log_beta_1]  # Concatenate derivatives\n",
    "\n",
    "N_sig = 1  # Number of signals\n",
    "\n",
    "N_params = len(diff_vec)  # Number of parameters we care about\n",
    "\n",
    "K = N_sig * N_params  # Dimension of Fisher Matrix\n",
    "\n",
    "fish_mix = np.eye(K)\n",
    "for i in range(0,K):\n",
    "    for j in range(0,K):\n",
    "        fish_mix[i,j] = inner_prod(diff_vec[i],diff_vec[j],PSD,delta_f)  # Construct Fisher Matrix\n",
    "        \n",
    "        \n",
    "\n",
    "import mpmath as mp  # Import arbitrary precision matrix\n",
    "#mp.dps表示精确度达到的位数\n",
    "mp.dps = 4000;   \n",
    "print(fish_mix)\n",
    "fish_mix_prec = mp.matrix(fish_mix)\n",
    "print(fish_mix_prec)\n",
    "fish_mix_inv = fish_mix_prec**-1\n",
    "print(fish_mix_inv)\n",
    "\n",
    "#将这三行向量合成为一个矩阵\n",
    "Cov_Matrix = np.eye(K)\n",
    "for i in range(0,K):\n",
    "    for j in range(0,K):\n",
    "        Cov_Matrix[i,j] = float(fish_mix_inv[i,j])\n",
    "print(Cov_Matrix)"
   ]
  }
 ],
 "metadata": {
  "kernelspec": {
   "display_name": "base",
   "language": "python",
   "name": "python3"
  },
  "language_info": {
   "codemirror_mode": {
    "name": "ipython",
    "version": 3
   },
   "file_extension": ".py",
   "mimetype": "text/x-python",
   "name": "python",
   "nbconvert_exporter": "python",
   "pygments_lexer": "ipython3",
   "version": "3.9.13"
  }
 },
 "nbformat": 4,
 "nbformat_minor": 2
}
