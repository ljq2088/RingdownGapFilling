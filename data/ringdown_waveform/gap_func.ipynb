{
 "cells": [
  {
   "cell_type": "code",
   "execution_count": 4,
   "metadata": {},
   "outputs": [],
   "source": [
    "import numpy as np\n",
    "import matplotlib.pyplot as plt\n",
    "pi = np.pi"
   ]
  },
  {
   "cell_type": "code",
   "execution_count": 3,
   "metadata": {},
   "outputs": [
    {
     "ename": "ValueError",
     "evalue": "The truth value of an array with more than one element is ambiguous. Use a.any() or a.all()",
     "output_type": "error",
     "traceback": [
      "\u001b[1;31m---------------------------------------------------------------------------\u001b[0m",
      "\u001b[1;31mValueError\u001b[0m                                Traceback (most recent call last)",
      "Cell \u001b[1;32mIn[3], line 23\u001b[0m\n\u001b[0;32m     20\u001b[0m         \u001b[38;5;28;01mreturn\u001b[39;00m funup\n\u001b[0;32m     22\u001b[0m tvec \u001b[38;5;241m=\u001b[39m np\u001b[38;5;241m.\u001b[39mlinspace(\u001b[38;5;241m0\u001b[39m,oneweek,\u001b[38;5;241m1000\u001b[39m)\n\u001b[1;32m---> 23\u001b[0m plt\u001b[38;5;241m.\u001b[39mplot(tvec,\u001b[43mWindow\u001b[49m\u001b[43m(\u001b[49m\u001b[43mtvec\u001b[49m\u001b[43m)\u001b[49m)\n\u001b[0;32m     24\u001b[0m plt\u001b[38;5;241m.\u001b[39mshow()\n",
      "Cell \u001b[1;32mIn[3], line 11\u001b[0m, in \u001b[0;36mWindow\u001b[1;34m(t)\u001b[0m\n\u001b[0;32m      9\u001b[0m \u001b[38;5;28;01mdef\u001b[39;00m \u001b[38;5;21mWindow\u001b[39m(t):\n\u001b[1;32m---> 11\u001b[0m     \u001b[38;5;28;01mif\u001b[39;00m \u001b[43mt\u001b[49m\u001b[43m \u001b[49m\u001b[38;5;241;43m<\u001b[39;49m\u001b[43m \u001b[49m\u001b[43mvalue1\u001b[49m:\n\u001b[0;32m     12\u001b[0m         \u001b[38;5;28;01mreturn\u001b[39;00m \u001b[38;5;241m1\u001b[39m\n\u001b[0;32m     13\u001b[0m     \u001b[38;5;28;01melif\u001b[39;00m t \u001b[38;5;241m<\u001b[39m Ts:\n",
      "\u001b[1;31mValueError\u001b[0m: The truth value of an array with more than one element is ambiguous. Use a.any() or a.all()"
     ]
    }
   ],
   "source": [
    "lengap = 3000*1\n",
    "#value1 = 567000 + lengap*3*3\n",
    "value1 = 10000 - lengap*3\n",
    "Ts = value1 + lengap         #gap start time\n",
    "Ttr = lengap        #gap transfer time\n",
    "Te = lengap + Ts         #gap end time\n",
    "oneweek = 10000\n",
    "\n",
    "def Window(t):\n",
    "\n",
    "    if t < value1:\n",
    "        return 1\n",
    "    elif t < Ts:\n",
    "        fundown = 0.5*(1+np.cos(pi*(t-Ts-Ttr)/Ttr))\n",
    "        return fundown\n",
    "    elif t < Te:\n",
    "        return 0\n",
    "    elif t <= oneweek:\n",
    "        funup = 0.5*(1+np.cos(pi*(t-Te-Ttr)/Ttr))\n",
    "        return funup\n",
    "    \n"
   ]
  },
  {
   "cell_type": "code",
   "execution_count": null,
   "metadata": {},
   "outputs": [],
   "source": [
    "def win(peri,htime,Tvec):\n",
    "    #注意，这里可能需要将gap的位置避免放置在ringdown信号的边缘\n",
    "    #np.random.seed(1)\n",
    "    posi_gap = peri * np.random.uniform(0,1,1)\n",
    "    Tgap = peri/10\n",
    "    Ts = posi_gap - Tgap\n",
    "    Te = posi_gap + Tgap\n",
    "    Tr = peri/10\n",
    "    gap_st = htime[:]\n",
    "    '''\n",
    "    for nn in range(len(Tvec)):\n",
    "        if Tvec[nn] >=Ts and Tvec[nn] <= Te:\n",
    "            return 0\n",
    "        elif Tvec[nn] <Ts and Tvec[nn] >= Ts-Tr:\n",
    "            return 0.5*(1+np.cos(pi*(Tvec[nn]-Ts-Ttr)/Ttr))\n",
    "        elif Tvec[nn] >Te and Tvec[nn] <= Te+Tr:\n",
    "            return 0.5*(1+np.cos(pi*(Tvec[nn]-Te-Ttr)/Ttr))\n",
    "        else:\n",
    "            return 1\n",
    "    '''\n",
    "    '''\n",
    "    for nn in range(len(Tvec)):\n",
    "        if Tvec[nn] >=Ts and Tvec[nn] <= Te:\n",
    "            \n",
    "            gap_st.append(0)\n",
    "        elif Tvec[nn] <Ts and Tvec[nn] >= Ts-Tr:\n",
    "            val = htime[nn]*0.5*(1+np.cos(pi*(Tvec[nn]-Ts-Ttr)/Ttr))\n",
    "            gap_st.append(val)\n",
    "        elif Tvec[nn] >Te and Tvec[nn] <= Te+Tr:\n",
    "            val = htime[nn]*0.5*(1+np.cos(pi*(Tvec[nn]-Te-Ttr)/Ttr))\n",
    "            gap_st.append(val)\n",
    "        else:\n",
    "            val = htime[nn]\n",
    "            gap_st.append(val)\n",
    "    print(\"完成加窗过程，窗的长度为：\",Tgap)\n",
    "    '''\n",
    "    for nn in range(len(Tvec)):\n",
    "        \n",
    "        if nn >=Ts and nn <= Te:\n",
    "            \n",
    "            gap_st[nn] = 0\n",
    "        elif nn <Ts and nn >= Ts-Tr:\n",
    "            gap_st[nn] = gap_st[nn]*0.5*(1+np.cos(pi*(nn-Ts-Ttr)/Ttr))\n",
    "            \n",
    "        elif nn >Te and nn <= Te+Tr:\n",
    "            gap_st[nn] = gap_st[nn]*0.5*(1+np.cos(pi*(nn-Te-Ttr)/Ttr))\n",
    "\n",
    "    print(\"完成加窗过程，窗的长度为：\",Tgap)\n",
    "    return gap_st\n"
   ]
  },
  {
   "cell_type": "code",
   "execution_count": null,
   "metadata": {},
   "outputs": [],
   "source": [
    "peri = tau4*2*pi\n",
    "def window(sigt,peri,):\n",
    "    \n",
    "    Tgap = peri/4\n",
    "    Ts = peri * np.random.uniform(0,1,1)\n",
    "    Te = Ts + Tgap\n",
    "\n",
    "    Tr = peri/8\n",
    "    gap_st = htime[:]\n",
    "    if t < value1:\n",
    "        return 1\n",
    "    elif t < Ts:\n",
    "        fundown = 0.5*(1+np.cos(pi*(t-Ts-Ttr)/Ttr))\n",
    "        return fundown\n",
    "    elif t < Te:\n",
    "        return 0\n",
    "    elif t <= oneweek:\n",
    "        funup = 0.5*(1+np.cos(pi*(t-Te-Ttr)/Ttr))\n",
    "        return funup"
   ]
  }
 ],
 "metadata": {
  "kernelspec": {
   "display_name": "error_noise",
   "language": "python",
   "name": "python3"
  },
  "language_info": {
   "codemirror_mode": {
    "name": "ipython",
    "version": 3
   },
   "file_extension": ".py",
   "mimetype": "text/x-python",
   "name": "python",
   "nbconvert_exporter": "python",
   "pygments_lexer": "ipython3",
   "version": "3.9.19"
  }
 },
 "nbformat": 4,
 "nbformat_minor": 2
}
