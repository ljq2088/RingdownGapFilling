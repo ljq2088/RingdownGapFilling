{
 "cells": [
  {
   "cell_type": "code",
   "execution_count": 1,
   "id": "915b46a5",
   "metadata": {},
   "outputs": [],
   "source": [
    "import torch \n",
    "import sys, os\n",
    "# 假设这个 notebook 位于 …/RingdownGapFilling/dataset/slice.ipynb\n",
    "root = os.path.abspath(os.path.join(os.getcwd(), '..'))\n",
    "sys.path.insert(0, root)\n",
    "\n",
    "from dataset.dataset import *\n",
    "# 加载保存的 Dataset\n",
    "dataset = torch.load('/home/ljq/code/RingdownGapFilling/dataset/train_dataset_signal_data_noise_gaps_HugeRangeParas.pth',weights_only=False)\n",
    "Spec_dataset=torch.load('/home/ljq/code/RingdownGapFilling/dataset/train_dataset_signal_data_noise_gaps_HugeRangeParas_Spec.pth',weights_only=False)\n",
    "\n",
    "dataset= CombinedDataset(dataset, Spec_dataset)"
   ]
  },
  {
   "cell_type": "code",
   "execution_count": null,
   "id": "6f24dad6",
   "metadata": {},
   "outputs": [],
   "source": [
    "#分割数据集\n",
    "train_size = int(0.001* len(dataset))\n",
    "val_size = len(dataset) - train_size\n",
    "train_dataset, val_dataset = torch.utils.data.random_split(dataset, [train_size, val_size])\n",
    "#保存train_dataset\n",
    "torch.save(train_dataset, '/home/ljq/code/RingdownGapFilling/dataset/train_dataset_signal_data_noise_gaps_HugeRangeParas_0001.pth')"
   ]
  }
 ],
 "metadata": {
  "kernelspec": {
   "display_name": "gw_ml_env",
   "language": "python",
   "name": "python3"
  },
  "language_info": {
   "codemirror_mode": {
    "name": "ipython",
    "version": 3
   },
   "file_extension": ".py",
   "mimetype": "text/x-python",
   "name": "python",
   "nbconvert_exporter": "python",
   "pygments_lexer": "ipython3",
   "version": "3.10.17"
  }
 },
 "nbformat": 4,
 "nbformat_minor": 5
}
